{
  "nbformat": 4,
  "nbformat_minor": 0,
  "metadata": {
    "colab": {
      "name": "ScoreMyResume.ipynb",
      "provenance": [],
      "authorship_tag": "ABX9TyMzn6EW5UO1pMz8twtLv6jS",
      "include_colab_link": true
    },
    "kernelspec": {
      "name": "python3",
      "display_name": "Python 3"
    },
    "language_info": {
      "name": "python"
    }
  },
  "cells": [
    {
      "cell_type": "markdown",
      "metadata": {
        "id": "view-in-github",
        "colab_type": "text"
      },
      "source": [
        "<a href=\"https://colab.research.google.com/github/VallabhK/ScoreMyResume/blob/main/ScoreMyResume.ipynb\" target=\"_parent\"><img src=\"https://colab.research.google.com/assets/colab-badge.svg\" alt=\"Open In Colab\"/></a>"
      ]
    },
    {
      "cell_type": "markdown",
      "metadata": {
        "id": "8HmPNgCLwjoz"
      },
      "source": [
        "**Score My Resume**\n",
        "\n",
        "This program will parse the document and score the resume based on job description"
      ]
    },
    {
      "cell_type": "code",
      "metadata": {
        "colab": {
          "base_uri": "https://localhost:8080/"
        },
        "id": "1mucQ36VwzQj",
        "outputId": "c218428d-1a19-46b8-89d7-9eabd655a6ba"
      },
      "source": [
        "#Install all the required package\n",
        "!pip install docx2txt\n",
        "#This is required for processing the word document and convert it to text"
      ],
      "execution_count": 1,
      "outputs": [
        {
          "output_type": "stream",
          "text": [
            "Collecting docx2txt\n",
            "  Downloading docx2txt-0.8.tar.gz (2.8 kB)\n",
            "Building wheels for collected packages: docx2txt\n",
            "  Building wheel for docx2txt (setup.py) ... \u001b[?25l\u001b[?25hdone\n",
            "  Created wheel for docx2txt: filename=docx2txt-0.8-py3-none-any.whl size=3982 sha256=b8f9d4e3b42c85e26930a22ea1cf88b344f00636ccbe00abd5196e5e8d4949c0\n",
            "  Stored in directory: /root/.cache/pip/wheels/b7/20/b2/473e3aea9a0c0d3e7b2f7bd81d06d0794fec12752733d1f3a8\n",
            "Successfully built docx2txt\n",
            "Installing collected packages: docx2txt\n",
            "Successfully installed docx2txt-0.8\n"
          ],
          "name": "stdout"
        }
      ]
    },
    {
      "cell_type": "code",
      "metadata": {
        "id": "GXBxIaZWxCL2"
      },
      "source": [
        "#Let's import the installed package\n",
        "import docx2txt"
      ],
      "execution_count": 2,
      "outputs": []
    },
    {
      "cell_type": "code",
      "metadata": {
        "id": "JTOELrpExhba",
        "colab": {
          "resources": {
            "http://localhost:8080/nbextensions/google.colab/files.js": {
              "data": "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",
              "ok": true,
              "headers": [
                [
                  "content-type",
                  "application/javascript"
                ]
              ],
              "status": 200,
              "status_text": ""
            }
          },
          "base_uri": "https://localhost:8080/",
          "height": 140
        },
        "outputId": "bbda7ac5-a6b0-43a2-ff69-8de397211609"
      },
      "source": [
        "from google.colab import files\n",
        "uploaded = files.upload()"
      ],
      "execution_count": 4,
      "outputs": [
        {
          "output_type": "display_data",
          "data": {
            "text/html": [
              "\n",
              "     <input type=\"file\" id=\"files-5fde3e95-6db6-4a1f-9ddb-6dec6e123f6d\" name=\"files[]\" multiple disabled\n",
              "        style=\"border:none\" />\n",
              "     <output id=\"result-5fde3e95-6db6-4a1f-9ddb-6dec6e123f6d\">\n",
              "      Upload widget is only available when the cell has been executed in the\n",
              "      current browser session. Please rerun this cell to enable.\n",
              "      </output>\n",
              "      <script src=\"/nbextensions/google.colab/files.js\"></script> "
            ],
            "text/plain": [
              "<IPython.core.display.HTML object>"
            ]
          },
          "metadata": {
            "tags": []
          }
        },
        {
          "output_type": "stream",
          "text": [
            "Saving JobDescription.docx to JobDescription.docx\n",
            "Saving VallabhResume1.0.docx to VallabhResume1.0 (1).docx\n"
          ],
          "name": "stdout"
        }
      ]
    },
    {
      "cell_type": "code",
      "metadata": {
        "colab": {
          "base_uri": "https://localhost:8080/"
        },
        "id": "1vrasl5lO52v",
        "outputId": "547cbe9a-e5e2-4431-9545-4320b44fc285"
      },
      "source": [
        "#Storing the resume in variable\n",
        "resume = docx2txt.process('VallabhResume1.0.docx')\n",
        "\n",
        "print(resume)"
      ],
      "execution_count": 5,
      "outputs": [
        {
          "output_type": "stream",
          "text": [
            "Vallabh Karanjkar\n",
            "\n",
            "Contact: +91 8805588688\n",
            "\n",
            "\n",
            "\n",
            "Email: vallabhkaranjkar@outlook.com\n",
            "\n",
            "\n",
            "\n",
            "LinkedIn: https://www.linkedin.com/in/vallabhkaranjkar/  \n",
            "\n",
            "\n",
            "\n",
            "Github: https://github.com/VallabhK  \n",
            "\n",
            "EDUCATION\n",
            "\n",
            "Carnegie Mellon University, Pittsburgh, PA\n",
            "\n",
            "Master’s in Information Systems Management- Business Intelligence and Data Analytics\n",
            "\n",
            "\n",
            "\n",
            "\n",
            "\n",
            "Incoming\n",
            "\n",
            "\n",
            "\n",
            "Aug 2022\n",
            "\n",
            "Dr. D, Y, Patil Institute of Technology, Savitribai Phule Pune University, Pune\n",
            "\n",
            "Bachelor of Engineering in Computer Engineering\n",
            "\n",
            "Published paper on Data stream Mining Big Data Using velocity varying Particle Swarm optimization feature selection- IJIRCCE, May 16(ISSN (Online): 2320-9801 ISSN (Print): 2320-9798)\n",
            "\n",
            "\n",
            "\n",
            "GPA: 3.21/4.0 (WES)\n",
            "\n",
            "\n",
            "\n",
            "\n",
            "\n",
            " May 2016\n",
            "\n",
            "\n",
            "\n",
            "PROJECTS\n",
            "\n",
            "Covid Dashboard using Tableau\n",
            "\n",
            "Built a dashboard to visualize region wise active number of cases and analyzed the data with the help of statistical modeling techniques\n",
            "\n",
            "Achieved data integration using web API from data.world for real-time updates.\n",
            "\n",
            "Dec 2020\n",
            "\n",
            "Housing Price Prediction\n",
            "\n",
            "Visualized the open-source data using python libraries and learnt data cleaning and managing techniques\n",
            "\n",
            "Built the model for predicting the housing prices and understood the contributing factors to change in prices. Hosted the project on Streamlit. \n",
            "\n",
            "Mar 2021\n",
            "\n",
            "\n",
            "\n",
            "RELEVANT SKILLS\n",
            "\n",
            "Areas\n",
            "\n",
            "Computer Vision, Data Science, Data Visualization, Machine Learning, \n",
            "\n",
            "Programming\n",
            "\n",
            "C++, C, Python (Pandas, NumPy, Sklearn, Matplotlib), SQL, C#, Java \n",
            "\n",
            "Tools & Framework\n",
            "\n",
            "Visual Studio, Tableau, MS Excel, MySQL, Git, Gitlab, JIRA, Tensorflow, OpenCV  \n",
            "\n",
            "\n",
            "\n",
            "WORK EXPERIENCE\n",
            "\n",
            "Senior Engineer\n",
            "\n",
            "Tata Elxsi, Pune\n",
            "\n",
            "Jul 2018 - Present\n",
            "\n",
            "Advanced Driver Assistance System- Re-simulation (ReSim)\n",
            "\n",
            "Developed tools, algorithms and fixed production related issues related to Autonomous vehicle which resulted in resolving critical issues before the Car hit the road with 70% reduction in time, efforts and thousands of dollars.\n",
            "\n",
            "Recognized for the contribution with “Customer Appreciation Award” and maintained customer satisfaction index well above 4.81/5\n",
            "\n",
            "Intelligent Truck Wheel Bearing | Research Project\n",
            "\n",
            "Leveraged Agile methodologies for project execution as Scrum Master and at Project Lead Capacity with highest customer satisfaction index of 4.89/5\n",
            "\n",
            "Applied Linear, Non-linear regression and Neural network techniques to establish a relation between the strain gauge sensors and force acting on each wheel which in turn will be used for driver assistance applications. Generated statistical reports using matplotlib and seaborn\n",
            "\n",
            "Engineer\n",
            "\n",
            "Tata Elxsi, Pune\n",
            "\n",
            "Jul 2016 – Jun 2018\n",
            "\n",
            "Driver Monitoring System\n",
            "\n",
            "Developed a machine learning model to recognize the faces in a video stream for in-vehicle active safety system\n",
            "\n",
            "Examined open-source machine learning models to prototype the object detection framework. Designed and implemented the machine learning model to detect objects in video with performance of 30 FPS \n",
            "\n",
            "2D and 3D Surround View System\n",
            "\n",
            "Conceptualized and designed the camera calibration framework for obtaining extrinsic and intrinsic parameters of the camera.\n",
            "\n",
            "Individually contributed to the modules- Image matching, Stitching, Geometry creation, Fish-eye Correction, Ackermann Trajectory Design of GUI using QT creator and Windows Presentation Foundation. Enhanced the performance by 50%\n",
            "\n",
            "Represented the Team at Roadshows held at multiple locations in Germany for multiple Tier 1’s & OEM’s.\n",
            "\n",
            "\n",
            "\n",
            "EXTRA-CURRICULAR\n",
            "\n",
            "Pillar of the Club, Rotaract Club of DYPVP\n",
            "\n",
            "Best Project Chairperson, R-Evolution | Rotary International District 3131  \n",
            "\n",
            "Finance Director and Treasurer, Rotaract Club of DYPVP, Pimpri\n",
            "\n",
            "\n",
            "\n",
            "Jun 2016\n",
            "\n",
            "Jun 2015\n",
            "\n",
            "Jun 2014 – Jun 2015\n"
          ],
          "name": "stdout"
        }
      ]
    },
    {
      "cell_type": "code",
      "metadata": {
        "colab": {
          "base_uri": "https://localhost:8080/"
        },
        "id": "cnf3EY-aPmek",
        "outputId": "13b5f47b-22aa-4ca4-d4ba-084ea09d04ea"
      },
      "source": [
        "#Share the job description in a variable\n",
        "job_description = docx2txt.process('JobDescription.docx')\n",
        "\n",
        "print(job_description)"
      ],
      "execution_count": 6,
      "outputs": [
        {
          "output_type": "stream",
          "text": [
            "Minimum qualifications:\n",
            "\n",
            "Bachelor's degree or equivalent practical experience.\n",
            "\n",
            "15 years of experience in customer sales, business development, solution management engineering, or consulting in the manufacturing industry.\n",
            "\n",
            "Preferred qualifications:\n",
            "\n",
            "Experience in customer and relationship management with technology or infrastructure as a service platforms.\n",
            "\n",
            "Experience spanning from product management across production planning, manufacturing, distribution, and services in discrete manufacturing.\n",
            "\n",
            "Experience participating in digital transformation programs for manufacturing customers, as a business consultant or working directly for manufacturing companies.\n",
            "\n",
            "Ability to engage with both developer audiences as well as executive-level IT and business leaders.\n",
            "\n",
            "Ability to meet and exceed goals in a fast-paced environment.\n",
            "\n",
            "Excellent written and verbal communication and presentation, and strategic and analytical thinking skills.\n",
            "\n",
            "About the job\n",
            "\n",
            "The Google Cloud Platform team helps customers transform and build what's next for their business — all with technology built in the cloud. Our products are engineered for security, reliability and scalability, running the full stack from infrastructure to applications to devices and hardware. Our teams are dedicated to helping our customers — developers, small and large businesses, educational institutions and government agencies — see the benefits of our technology come to life. As part of an entrepreneurial team in this rapidly growing business, you will play a key role in understanding the needs of our customers and help shape the future of businesses of all sizes use technology to connect with customers, employees and partners.\n",
            "\n",
            "As an Industry Development Manager, you will advocate for the Google Cloud Platform, promoting technology for business innovation. You'll introduce Google Cloud Platform to our customers, drive awareness in the developer and startup community, and leverage and build the Google Cloud Platform partner ecosystem within the discrete manufacturing industry.\n",
            "\n",
            "Google Cloud provides organizations with leading infrastructure, platform capabilities and industry solutions. We deliver enterprise-grade cloud solutions that leverage Google’s cutting-edge technology to help companies operate more efficiently and adapt to changing needs, giving customers a foundation for the future. Customers in more than 150 countries turn to Google Cloud as their trusted partner to solve their most critical business problems.\n",
            "\n",
            "Responsibilities\n",
            "\n",
            "Take on a key role in shaping local go-to-market strategy for manufacturing in close collaboration with the sales, global manufacturing solutions, and marketing teams. Accelerate sales pipeline through active opportunity creation.\n",
            "\n",
            "Lead concept and organization of Google Cloud participation at key local industry events and ensure high quality customer participation.\n",
            "\n",
            "Grow a network of executive-level/key business and IT decision makers within Google Cloud ecosystem together with sales and manufacturing solutions team.\n",
            "\n",
            "Work closely with sales and manufacturing solutions teams to prepare for key customer meetings to showcase Google Cloud impact for innovation in manufacturing.\n",
            "\n",
            "Support leading execution of manufacturing lighthouse cases with local customers in partnership with sales, product, solutions, and customer engineering teams. Leverage System Integrator and Independent Software Vendor partners for local market development together with local partner organization.\n"
          ],
          "name": "stdout"
        }
      ]
    },
    {
      "cell_type": "code",
      "metadata": {
        "id": "9Aoi9dAcQAKx"
      },
      "source": [
        "text  = [resume, job_description]"
      ],
      "execution_count": 7,
      "outputs": []
    },
    {
      "cell_type": "code",
      "metadata": {
        "id": "eDBBYfc1QKUj"
      },
      "source": [
        "#Let's count the words\n",
        "from sklearn.feature_extraction.text import CountVectorizer\n",
        "cv = CountVectorizer()\n",
        "count_matrix = cv.fit_transform(text)"
      ],
      "execution_count": 8,
      "outputs": []
    },
    {
      "cell_type": "code",
      "metadata": {
        "colab": {
          "base_uri": "https://localhost:8080/"
        },
        "id": "ECc0XicmQdik",
        "outputId": "b1e014e5-31c6-484b-b95d-f29bca0c3433"
      },
      "source": [
        "from sklearn.metrics.pairwise import cosine_similarity\n",
        "\n",
        "print('\\nSimilarity: ', cosine_similarity(count_matrix))"
      ],
      "execution_count": 10,
      "outputs": [
        {
          "output_type": "stream",
          "text": [
            "\n",
            "Similarity:  [[1.         0.58583333]\n",
            " [0.58583333 1.        ]]\n"
          ],
          "name": "stdout"
        }
      ]
    },
    {
      "cell_type": "code",
      "metadata": {
        "colab": {
          "base_uri": "https://localhost:8080/"
        },
        "id": "mBX8tHTKQx7E",
        "outputId": "89f44d08-6aef-487b-a100-41d74d24b89a"
      },
      "source": [
        "#Compute the match percentage\n",
        "\n",
        "matchPercentage = cosine_similarity(count_matrix)[0][1]*100\n",
        "matchPercentage = round(matchPercentage)\n",
        "print(\"Your resume match percentage is \"+ str(matchPercentage) +'% of job description')"
      ],
      "execution_count": 12,
      "outputs": [
        {
          "output_type": "stream",
          "text": [
            "Your resume match percentage is 59% of job description\n"
          ],
          "name": "stdout"
        }
      ]
    },
    {
      "cell_type": "code",
      "metadata": {
        "id": "_SDr412hRXtk"
      },
      "source": [
        ""
      ],
      "execution_count": null,
      "outputs": []
    }
  ]
}